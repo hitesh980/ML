{
 "cells": [
  {
   "cell_type": "code",
   "execution_count": 1,
   "id": "2b3dfc9e-4ccb-44a4-ae5c-b6d972e194ce",
   "metadata": {},
   "outputs": [],
   "source": [
    "import pandas as pd"
   ]
  },
  {
   "cell_type": "code",
   "execution_count": 2,
   "id": "cfcc5ba0-8885-49b0-8351-48ea3bc9f9c1",
   "metadata": {},
   "outputs": [],
   "source": [
    "import numpy as np"
   ]
  },
  {
   "cell_type": "code",
   "execution_count": 3,
   "id": "7a137a2b-f9f8-4a91-876c-890ebac1d9b1",
   "metadata": {},
   "outputs": [],
   "source": [
    "df = pd.read_csv(r'/Users/hiteshallakki/Downloads/course_lead_scoring.csv')"
   ]
  },
  {
   "cell_type": "code",
   "execution_count": 4,
   "id": "5e3ccf0c-8008-4b2f-89ab-49312cd9dc1f",
   "metadata": {},
   "outputs": [],
   "source": [
    "df.columns = df.columns.str.lower().str.replace(' ','_')"
   ]
  },
  {
   "cell_type": "code",
   "execution_count": 26,
   "id": "46427471-1137-43bf-b57d-f401281618fc",
   "metadata": {},
   "outputs": [],
   "source": [
    "categorical_features = df.select_dtypes(include=['object']).columns\n",
    "numerical_features = df.select_dtypes(include=['int64', 'float64']).columns\n",
    "df[categorical_features] = df[categorical_features].fillna('NA')\n",
    "df[numerical_features] = df[numerical_features].fillna(0)"
   ]
  },
  {
   "cell_type": "code",
   "execution_count": 18,
   "id": "245477f7-1812-48ab-b20f-2e0e933689c3",
   "metadata": {},
   "outputs": [
    {
     "data": {
      "text/plain": [
       "['lead_source', 'industry', 'employment_status', 'location']"
      ]
     },
     "execution_count": 18,
     "metadata": {},
     "output_type": "execute_result"
    }
   ],
   "source": [
    "strings = list(df.dtypes[df.dtypes == 'object'].index)\n",
    "strings"
   ]
  },
  {
   "cell_type": "code",
   "execution_count": 19,
   "id": "064225e6-7c2b-448a-a453-a2e5b60ab33a",
   "metadata": {},
   "outputs": [],
   "source": [
    "for col in strings:\n",
    "    df[col] = df[col].str.lower().str.replace(' ','_')"
   ]
  },
  {
   "cell_type": "code",
   "execution_count": 20,
   "id": "9e24b292-d361-46f4-a656-24bbc6bc1f0f",
   "metadata": {},
   "outputs": [],
   "source": [
    "from sklearn.model_selection import train_test_split"
   ]
  },
  {
   "cell_type": "code",
   "execution_count": 21,
   "id": "70551443-00dd-4695-8dfe-5e411353bce5",
   "metadata": {},
   "outputs": [],
   "source": [
    "df_full_train , df_test = train_test_split(df,test_size = 0.2 ,random_state =1)\n",
    "df_train ,df_val = train_test_split(df_full_train , test_size = 0.25 ,random_state =1)"
   ]
  },
  {
   "cell_type": "code",
   "execution_count": 22,
   "id": "2944ab32-7bf6-45d6-ae09-5350de2522b8",
   "metadata": {},
   "outputs": [],
   "source": [
    "df_train = df_train.reset_index(drop = True)\n",
    "df_val = df_val.reset_index(drop = True)\n",
    "df_test = df_test.reset_index(drop = True)"
   ]
  },
  {
   "cell_type": "code",
   "execution_count": 23,
   "id": "f3b67b38-0829-4b7e-b41e-6e925bc92bcc",
   "metadata": {},
   "outputs": [],
   "source": [
    "y_train = df_train['converted'].values\n",
    "y_val = df_val['converted'].values\n",
    "y_test = df_test['converted'].values"
   ]
  },
  {
   "cell_type": "code",
   "execution_count": 24,
   "id": "02132506-b4a3-473d-8425-3d5e615df755",
   "metadata": {},
   "outputs": [],
   "source": [
    "df_train = df_train.drop('converted',axis =1 )\n",
    "df_val = df_val.drop('converted',axis =1 )\n",
    "df_test = df_test.drop('converted',axis =1 )"
   ]
  },
  {
   "cell_type": "code",
   "execution_count": 43,
   "id": "7a458244-f0b0-448a-b624-d940c623953d",
   "metadata": {},
   "outputs": [],
   "source": [
    "#logistic regression \n",
    "numerical = list(df_train.dtypes[df_train.dtypes != 'object'].index)\n",
    "numerical\n",
    "categorical = list(df_train.select_dtypes(include=['object']).columns)\n",
    "\n"
   ]
  },
  {
   "cell_type": "code",
   "execution_count": 44,
   "id": "7d6b293a-20ec-40ff-8c25-35ac50d60d22",
   "metadata": {},
   "outputs": [
    {
     "data": {
      "text/plain": [
       "['lead_source', 'industry', 'employment_status', 'location']"
      ]
     },
     "execution_count": 44,
     "metadata": {},
     "output_type": "execute_result"
    }
   ],
   "source": [
    "#confusion Table\n",
    "categories"
   ]
  },
  {
   "cell_type": "code",
   "execution_count": 49,
   "id": "8b972bc2-3ca3-47f2-b7df-6184c609af41",
   "metadata": {},
   "outputs": [
    {
     "name": "stdout",
     "output_type": "stream",
     "text": [
      "AUC: 0.817\n"
     ]
    }
   ],
   "source": [
    "from sklearn.feature_extraction import DictVectorizer\n",
    "from sklearn.linear_model import LogisticRegression\n",
    "\n",
    "\n",
    "dv = DictVectorizer(sparse = False)\n",
    "\n",
    "train_dict = df_train[categorical + numerical].to_dict(orient='records')\n",
    "X_train = dv.fit_transform(train_dict)\n",
    "\n",
    "val_dict = df_val[categorical + numerical ].to_dict(orient = 'records')\n",
    "X_val = dv.transform(val_dict)\n",
    "\n",
    "#Training the model\n",
    "model = LogisticRegression(solver = 'liblinear',C = 1.0 , max_iter = 1000)\n",
    "model.fit(X_train,y_train)\n",
    "\n",
    "y_pred = model.predict_proba(X_val)[:,1]\n",
    "\n",
    "from sklearn.metrics import roc_auc_score\n",
    "auc = roc_auc_score(y_val,y_pred)\n",
    "\n",
    "print (auc)"
   ]
  },
  {
   "cell_type": "code",
   "execution_count": 52,
   "id": "39e2ba24-4645-4fce-9dde-3acc2515a760",
   "metadata": {},
   "outputs": [
    {
     "name": "stdout",
     "output_type": "stream",
     "text": [
      "number_of_courses_viewed: AUC = 0.764\n",
      "annual_income: AUC = 0.552\n",
      "interaction_count: AUC = 0.738\n",
      "lead_score: AUC = 0.614\n",
      "best auc: number_of_courses_viewed\n"
     ]
    }
   ],
   "source": [
    "#calculating ROC\n",
    "aucs = {}\n",
    "\n",
    "for var in numerical:\n",
    "    scores = df_train[var].values\n",
    "    auc = roc_auc_score(y_train,scores)\n",
    "    if auc < 0.5:\n",
    "        auc = roc_auc_score(y_train,-scores)\n",
    "    aucs[var] = auc\n",
    "    print(f\"{var}: AUC = {auc:.3f}\")\n",
    "\n",
    "best_var = max(aucs,key =aucs.get)\n",
    "print(f\"best auc: {best_var}\")"
   ]
  },
  {
   "cell_type": "code",
   "execution_count": 53,
   "id": "ad1f72fe-ee13-459a-a875-21405d1ba7a5",
   "metadata": {},
   "outputs": [],
   "source": [
    "#precision and recall"
   ]
  },
  {
   "cell_type": "code",
   "execution_count": 59,
   "id": "26112805-cece-4876-a330-4278fc761b23",
   "metadata": {},
   "outputs": [
    {
     "name": "stderr",
     "output_type": "stream",
     "text": [
      "/Users/hiteshallakki/Documents/DataTalks/jupyter_env/lib/python3.9/site-packages/sklearn/metrics/_classification.py:1565: UndefinedMetricWarning: Precision is ill-defined and being set to 0.0 due to no predicted samples. Use `zero_division` parameter to control this behavior.\n",
      "  _warn_prf(average, modifier, f\"{metric.capitalize()} is\", len(result))\n",
      "/Users/hiteshallakki/Documents/DataTalks/jupyter_env/lib/python3.9/site-packages/sklearn/metrics/_classification.py:1565: UndefinedMetricWarning: Precision is ill-defined and being set to 0.0 due to no predicted samples. Use `zero_division` parameter to control this behavior.\n",
      "  _warn_prf(average, modifier, f\"{metric.capitalize()} is\", len(result))\n",
      "/Users/hiteshallakki/Documents/DataTalks/jupyter_env/lib/python3.9/site-packages/sklearn/metrics/_classification.py:1565: UndefinedMetricWarning: Precision is ill-defined and being set to 0.0 due to no predicted samples. Use `zero_division` parameter to control this behavior.\n",
      "  _warn_prf(average, modifier, f\"{metric.capitalize()} is\", len(result))\n"
     ]
    },
    {
     "data": {
      "image/png": "[encoded data removed]",
      "text/plain": [
       "<Figure size 640x480 with 1 Axes>"
      ]
     },
     "metadata": {},
     "output_type": "display_data"
    },
    {
     "name": "stdout",
     "output_type": "stream",
     "text": [
      "Precision and recall intersect at threshold: 0.640\n"
     ]
    }
   ],
   "source": [
    "import matplotlib.pyplot as plt\n",
    "from sklearn.metrics import precision_score, recall_score\n",
    "thresholds = np.arange(0.0,1.01,0.01)\n",
    "precisions = []\n",
    "recalls = []\n",
    "\n",
    "for t in thresholds:\n",
    "    preds = y_pred >=t\n",
    "    p = precision_score(y_val,preds)\n",
    "    r = recall_score(y_val,preds)\n",
    "    precisions.append(p)\n",
    "    recalls.append(r)\n",
    "plt.plot(thresholds, precisions, label='Precision')\n",
    "plt.plot(thresholds, recalls, label='Recall')\n",
    "plt.xlabel('Threshold')\n",
    "plt.ylabel('Score')\n",
    "plt.legend()\n",
    "plt.show()\n",
    "\n",
    "# find the intersection threshold\n",
    "for t,p,r in zip(thresholds,precisions,recalls):\n",
    "    if np.isclose(p,r,atol =0.01):\n",
    "        print(f\"Precision and recall intersect at threshold: {t:.3f}\")\n",
    "        break"
   ]
  },
  {
   "cell_type": "code",
   "execution_count": 29,
   "id": "0ba3361f-c04a-49e7-bd6e-30f2737058bf",
   "metadata": {},
   "outputs": [],
   "source": []
  },
  {
   "cell_type": "code",
   "execution_count": 60,
   "id": "b5e6c5c2-1f10-4089-b43b-0a1e829df877",
   "metadata": {},
   "outputs": [
    {
     "name": "stderr",
     "output_type": "stream",
     "text": [
      "/Users/hiteshallakki/Documents/DataTalks/jupyter_env/lib/python3.9/site-packages/sklearn/metrics/_classification.py:1565: UndefinedMetricWarning: Precision is ill-defined and being set to 0.0 due to no predicted samples. Use `zero_division` parameter to control this behavior.\n",
      "  _warn_prf(average, modifier, f\"{metric.capitalize()} is\", len(result))\n",
      "/Users/hiteshallakki/Documents/DataTalks/jupyter_env/lib/python3.9/site-packages/sklearn/metrics/_classification.py:1565: UndefinedMetricWarning: Precision is ill-defined and being set to 0.0 due to no predicted samples. Use `zero_division` parameter to control this behavior.\n",
      "  _warn_prf(average, modifier, f\"{metric.capitalize()} is\", len(result))\n",
      "/Users/hiteshallakki/Documents/DataTalks/jupyter_env/lib/python3.9/site-packages/sklearn/metrics/_classification.py:1565: UndefinedMetricWarning: Precision is ill-defined and being set to 0.0 due to no predicted samples. Use `zero_division` parameter to control this behavior.\n",
      "  _warn_prf(average, modifier, f\"{metric.capitalize()} is\", len(result))\n"
     ]
    },
    {
     "data": {
      "image/png": "[encoded data removed]",
      "text/plain": [
       "<Figure size 640x480 with 1 Axes>"
      ]
     },
     "metadata": {},
     "output_type": "display_data"
    },
    {
     "name": "stdout",
     "output_type": "stream",
     "text": [
      "Max F1 score at threshold: 0.57\n"
     ]
    }
   ],
   "source": [
    "from sklearn.metrics import precision_score, recall_score\n",
    "\n",
    "thresholds = np.arange(0.0, 1.01, 0.01)\n",
    "f1_scores = []\n",
    "\n",
    "for t in thresholds:\n",
    "    preds = y_pred >= t\n",
    "    p = precision_score(y_val, preds)\n",
    "    r = recall_score(y_val, preds)\n",
    "    if p + r == 0:\n",
    "        f1 = 0\n",
    "    else:\n",
    "        f1 = 2 * p * r / (p + r)\n",
    "    f1_scores.append(f1)\n",
    "\n",
    "plt.plot(thresholds, f1_scores, label='F1 score')\n",
    "plt.xlabel('Threshold')\n",
    "plt.ylabel('F1 score')\n",
    "plt.legend()\n",
    "plt.show()\n",
    "\n",
    "max_f1_idx = np.argmax(f1_scores)\n",
    "max_f1_threshold = thresholds[max_f1_idx]\n",
    "print(f\"Max F1 score at threshold: {max_f1_threshold:.2f}\")"
   ]
  },
  {
   "cell_type": "code",
   "execution_count": null,
   "id": "753d5e79-b10c-472f-a88b-200146f7a472",
   "metadata": {},
   "outputs": [],
   "source": []
  },
  {
   "cell_type": "code",
   "execution_count": 63,
   "id": "b6a999f1-70c4-4373-980f-49294120991a",
   "metadata": {},
   "outputs": [
    {
     "name": "stdout",
     "output_type": "stream",
     "text": [
      "AUC scores per fold: [np.float64(0.806075), np.float64(0.871374), np.float64(0.775432), np.float64(0.801837), np.float64(0.855827)]\n",
      "Standard deviation of AUC scores: 0.035807\n"
     ]
    }
   ],
   "source": [
    "kfold = KFold(n_splits=5, shuffle=True, random_state=1)\n",
    "scores = []\n",
    "\n",
    "for train_idx, val_idx in kfold.split(df_full_train):\n",
    "    df_train = df_full_train.iloc[train_idx].reset_index(drop=True)\n",
    "    df_val = df_full_train.iloc[val_idx].reset_index(drop=True)\n",
    "\n",
    "    y_train = df_train['converted'].values\n",
    "    y_val = df_val['converted'].values\n",
    "\n",
    "    train_dict = df_train[categorical + numerical].to_dict(orient='records')\n",
    "    val_dict = df_val[categorical + numerical].to_dict(orient='records')\n",
    "\n",
    "    dv = DictVectorizer(sparse=False)\n",
    "    X_train = dv.fit_transform(train_dict)\n",
    "    X_val = dv.transform(val_dict)\n",
    "\n",
    "    model = LogisticRegression(solver='liblinear', C=1.0, max_iter=1000)\n",
    "    model.fit(X_train, y_train)\n",
    "    y_pred = model.predict_proba(X_val)[:, 1]\n",
    "\n",
    "    auc = roc_auc_score(y_val, y_pred)\n",
    "    scores.append(auc)\n",
    "\n",
    "print('AUC scores per fold:', [round(s, 6) for s in scores])\n",
    "print('Standard deviation of AUC scores: %.6f' % np.std(scores))"
   ]
  },
  {
   "cell_type": "code",
   "execution_count": 70,
   "id": "459e3242-a5f0-4545-b814-9ab0861c015a",
   "metadata": {},
   "outputs": [
    {
     "name": "stdout",
     "output_type": "stream",
     "text": [
      "C=1e-06: mean=0.560, std=0.024\n",
      "C=0.001: mean=0.867, std=0.029\n",
      "C=1: mean=0.822, std=0.036\n",
      "Best C: 0.001\n"
     ]
    }
   ],
   "source": [
    "def train_and_evaluate(df, C, categorical, numerical):\n",
    "    kf = KFold(n_splits=5, shuffle=True, random_state=1)\n",
    "    auc_scores = []\n",
    "\n",
    "    for train_idx, val_idx in kf.split(df):\n",
    "        train, val = df.iloc[train_idx], df.iloc[val_idx]\n",
    "        y_train, y_val = train['converted'], val['converted']\n",
    "\n",
    "        dv = DictVectorizer(sparse=False)\n",
    "        X_train = dv.fit_transform(train[categorical + numerical].to_dict('records'))\n",
    "        X_val = dv.transform(val[categorical + numerical].to_dict('records'))\n",
    "\n",
    "        model = LogisticRegression(solver='liblinear', C=C, max_iter=1000)\n",
    "        model.fit(X_train, y_train)\n",
    "\n",
    "        y_pred = model.predict_proba(X_val)[:, 1]\n",
    "        auc_scores.append(roc_auc_score(y_val, y_pred))\n",
    "\n",
    "    return np.mean(auc_scores), np.std(auc_scores)\n",
    "\n",
    "\n",
    "Cs = [0.000001, 0.001, 1]\n",
    "results = []\n",
    "\n",
    "for C in Cs:\n",
    "    mean, std = train_and_evaluate(df_full_train, C, categorical, numerical)\n",
    "    results.append((C, mean, std))\n",
    "    print(f\"C={C}: mean={mean:.3f}, std={std:.3f}\")\n",
    "\n",
    "best_result = results[0]\n",
    "for result in results[1:]:\n",
    "    C, mean, std = result\n",
    "    if (mean > best_result[1]) or (mean == best_result[1] and std < best_result[2]):\n",
    "        best_result = result\n",
    "\n",
    "best_C = best_result[0]\n",
    "print(f\"Best C: {best_C}\")"
   ]
  },
  {
   "cell_type": "code",
   "execution_count": null,
   "id": "c52566c0-d4a1-42a0-b636-9ee89c62b68b",
   "metadata": {},
   "outputs": [],
   "source": []
  }
 ],
 "metadata": {
  "kernelspec": {
   "display_name": "Python 3 (ipykernel)",
   "language": "python",
   "name": "python3"
  },
  "language_info": {
   "codemirror_mode": {
    "name": "ipython",
    "version": 3
   },
   "file_extension": ".py",
   "mimetype": "text/x-python",
   "name": "python",
   "nbconvert_exporter": "python",
   "pygments_lexer": "ipython3",
   "version": "3.9.6"
  }
 },
 "nbformat": 4,
 "nbformat_minor": 5
}

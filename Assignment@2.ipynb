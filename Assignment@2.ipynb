{
 "cells": [
  {
   "cell_type": "code",
   "execution_count": 1,
   "id": "1d2538ce-530f-4615-a6f9-8417dc4783d8",
   "metadata": {},
   "outputs": [
    {
     "data": {
      "text/html": [
       "<div>\n",
       "<style scoped>\n",
       "    .dataframe tbody tr th:only-of-type {\n",
       "        vertical-align: middle;\n",
       "    }\n",
       "\n",
       "    .dataframe tbody tr th {\n",
       "        vertical-align: top;\n",
       "    }\n",
       "\n",
       "    .dataframe thead th {\n",
       "        text-align: right;\n",
       "    }\n",
       "</style>\n",
       "<table border=\"1\" class=\"dataframe\">\n",
       "  <thead>\n",
       "    <tr style=\"text-align: right;\">\n",
       "      <th></th>\n",
       "      <th>engine_displacement</th>\n",
       "      <th>num_cylinders</th>\n",
       "      <th>horsepower</th>\n",
       "      <th>vehicle_weight</th>\n",
       "      <th>acceleration</th>\n",
       "      <th>model_year</th>\n",
       "      <th>origin</th>\n",
       "      <th>fuel_type</th>\n",
       "      <th>drivetrain</th>\n",
       "      <th>num_doors</th>\n",
       "      <th>fuel_efficiency_mpg</th>\n",
       "    </tr>\n",
       "  </thead>\n",
       "  <tbody>\n",
       "    <tr>\n",
       "      <th>0</th>\n",
       "      <td>170</td>\n",
       "      <td>3.0</td>\n",
       "      <td>159.0</td>\n",
       "      <td>3413.433759</td>\n",
       "      <td>17.7</td>\n",
       "      <td>2003</td>\n",
       "      <td>Europe</td>\n",
       "      <td>Gasoline</td>\n",
       "      <td>All-wheel drive</td>\n",
       "      <td>0.0</td>\n",
       "      <td>13.231729</td>\n",
       "    </tr>\n",
       "    <tr>\n",
       "      <th>1</th>\n",
       "      <td>130</td>\n",
       "      <td>5.0</td>\n",
       "      <td>97.0</td>\n",
       "      <td>3149.664934</td>\n",
       "      <td>17.8</td>\n",
       "      <td>2007</td>\n",
       "      <td>USA</td>\n",
       "      <td>Gasoline</td>\n",
       "      <td>Front-wheel drive</td>\n",
       "      <td>0.0</td>\n",
       "      <td>13.688217</td>\n",
       "    </tr>\n",
       "    <tr>\n",
       "      <th>2</th>\n",
       "      <td>170</td>\n",
       "      <td>NaN</td>\n",
       "      <td>78.0</td>\n",
       "      <td>3079.038997</td>\n",
       "      <td>15.1</td>\n",
       "      <td>2018</td>\n",
       "      <td>Europe</td>\n",
       "      <td>Gasoline</td>\n",
       "      <td>Front-wheel drive</td>\n",
       "      <td>0.0</td>\n",
       "      <td>14.246341</td>\n",
       "    </tr>\n",
       "    <tr>\n",
       "      <th>3</th>\n",
       "      <td>220</td>\n",
       "      <td>4.0</td>\n",
       "      <td>NaN</td>\n",
       "      <td>2542.392402</td>\n",
       "      <td>20.2</td>\n",
       "      <td>2009</td>\n",
       "      <td>USA</td>\n",
       "      <td>Diesel</td>\n",
       "      <td>All-wheel drive</td>\n",
       "      <td>2.0</td>\n",
       "      <td>16.912736</td>\n",
       "    </tr>\n",
       "    <tr>\n",
       "      <th>4</th>\n",
       "      <td>210</td>\n",
       "      <td>1.0</td>\n",
       "      <td>140.0</td>\n",
       "      <td>3460.870990</td>\n",
       "      <td>14.4</td>\n",
       "      <td>2009</td>\n",
       "      <td>Europe</td>\n",
       "      <td>Gasoline</td>\n",
       "      <td>All-wheel drive</td>\n",
       "      <td>2.0</td>\n",
       "      <td>12.488369</td>\n",
       "    </tr>\n",
       "  </tbody>\n",
       "</table>\n",
       "</div>"
      ],
      "text/plain": [
       "   engine_displacement  num_cylinders  horsepower  vehicle_weight  \\\n",
       "0                  170            3.0       159.0     3413.433759   \n",
       "1                  130            5.0        97.0     3149.664934   \n",
       "2                  170            NaN        78.0     3079.038997   \n",
       "3                  220            4.0         NaN     2542.392402   \n",
       "4                  210            1.0       140.0     3460.870990   \n",
       "\n",
       "   acceleration  model_year  origin fuel_type         drivetrain  num_doors  \\\n",
       "0          17.7        2003  Europe  Gasoline    All-wheel drive        0.0   \n",
       "1          17.8        2007     USA  Gasoline  Front-wheel drive        0.0   \n",
       "2          15.1        2018  Europe  Gasoline  Front-wheel drive        0.0   \n",
       "3          20.2        2009     USA    Diesel    All-wheel drive        2.0   \n",
       "4          14.4        2009  Europe  Gasoline    All-wheel drive        2.0   \n",
       "\n",
       "   fuel_efficiency_mpg  \n",
       "0            13.231729  \n",
       "1            13.688217  \n",
       "2            14.246341  \n",
       "3            16.912736  \n",
       "4            12.488369  "
      ]
     },
     "execution_count": 1,
     "metadata": {},
     "output_type": "execute_result"
    }
   ],
   "source": [
    "import pandas as pd\n",
    "\n",
    "url = \"https://raw.githubusercontent.com/alexeygrigorev/datasets/master/car_fuel_efficiency.csv\"\n",
    "df = pd.read_csv(url)\n",
    "\n",
    "\n",
    "df.head()"
   ]
  },
  {
   "cell_type": "code",
   "execution_count": 9,
   "id": "31ee84b7-a025-47e1-95ca-18ac1cc19c16",
   "metadata": {},
   "outputs": [],
   "source": [
    "df = df[['engine_displacement',\n",
    "'horsepower',\n",
    "'vehicle_weight',\n",
    "'model_year',\n",
    "'fuel_efficiency_mpg']]"
   ]
  },
  {
   "cell_type": "code",
   "execution_count": 9,
   "id": "7b67d1bc-9585-4571-a45f-3932696306b9",
   "metadata": {},
   "outputs": [],
   "source": [
    "df = df[['engine_displacement',\n",
    "'horsepower',\n",
    "'vehicle_weight',\n",
    "'model_year',\n",
    "'fuel_efficiency_mpg']]"
   ]
  },
  {
   "cell_type": "code",
   "execution_count": null,
   "id": "090fd103-ecc4-4a60-9a37-8079a618dd79",
   "metadata": {},
   "outputs": [],
   "source": []
  },
  {
   "cell_type": "code",
   "execution_count": null,
   "id": "64a37d07-8774-437b-ad95-1b10798e5b2f",
   "metadata": {},
   "outputs": [],
   "source": []
  },
  {
   "cell_type": "code",
   "execution_count": 12,
   "id": "b3ae7b92-4542-4932-8c1f-c86a3dbb179d",
   "metadata": {},
   "outputs": [
    {
     "data": {
      "text/plain": [
       "9699    15.101802\n",
       "9700    17.962326\n",
       "9701    17.186587\n",
       "9702    15.331551\n",
       "9703    14.884467\n",
       "Name: fuel_efficiency_mpg, dtype: float64"
      ]
     },
     "execution_count": 12,
     "metadata": {},
     "output_type": "execute_result"
    }
   ],
   "source": [
    "#checking for the tail\n",
    "df['fuel_efficiency_mpg'].iloc[-5:]"
   ]
  },
  {
   "cell_type": "code",
   "execution_count": 16,
   "id": "136d700b-a44b-4192-999b-06d153020e49",
   "metadata": {},
   "outputs": [
    {
     "data": {
      "text/plain": [
       "engine_displacement      0\n",
       "horsepower             708\n",
       "vehicle_weight           0\n",
       "model_year               0\n",
       "fuel_efficiency_mpg      0\n",
       "dtype: int64"
      ]
     },
     "execution_count": 16,
     "metadata": {},
     "output_type": "execute_result"
    }
   ],
   "source": [
    "#finding the missing value column\n",
    "df.isnull().sum()"
   ]
  },
  {
   "cell_type": "code",
   "execution_count": 17,
   "id": "ebe5453d-0270-4208-af90-f6ed90ab6dd8",
   "metadata": {},
   "outputs": [
    {
     "data": {
      "text/plain": [
       "horsepower    708\n",
       "dtype: int64"
      ]
     },
     "execution_count": 17,
     "metadata": {},
     "output_type": "execute_result"
    }
   ],
   "source": [
    "df.isna().sum()[df.isna().sum() > 0]\n"
   ]
  },
  {
   "cell_type": "code",
   "execution_count": 19,
   "id": "85bc593e-b16b-4194-b423-8a48e9d8ff69",
   "metadata": {},
   "outputs": [
    {
     "data": {
      "text/plain": [
       "np.float64(149.0)"
      ]
     },
     "execution_count": 19,
     "metadata": {},
     "output_type": "execute_result"
    }
   ],
   "source": [
    "#median of the horsepower\n",
    "df['horsepower'].median()"
   ]
  },
  {
   "cell_type": "code",
   "execution_count": 20,
   "id": "416cdbdb-4c09-4b43-9895-8d08736e0f8a",
   "metadata": {},
   "outputs": [],
   "source": [
    "# setting up validation framework\n",
    "n = len(df)\n",
    "\n",
    "n_val = int(n*0.2)\n",
    "n_test = int(n*0.2)\n",
    "n_train = n - n_val -n_test\n"
   ]
  },
  {
   "cell_type": "code",
   "execution_count": 21,
   "id": "6cc217b4-9781-41e5-831a-063db9edbada",
   "metadata": {},
   "outputs": [
    {
     "data": {
      "text/plain": [
       "9704"
      ]
     },
     "execution_count": 21,
     "metadata": {},
     "output_type": "execute_result"
    }
   ],
   "source": [
    "n"
   ]
  },
  {
   "cell_type": "code",
   "execution_count": 22,
   "id": "35d32dd5-e7dc-46da-a974-277a64138d34",
   "metadata": {},
   "outputs": [
    {
     "data": {
      "text/plain": [
       "(1940, 1940, 5824)"
      ]
     },
     "execution_count": 22,
     "metadata": {},
     "output_type": "execute_result"
    }
   ],
   "source": [
    "n_val , n_test ,n_train"
   ]
  },
  {
   "cell_type": "code",
   "execution_count": 27,
   "id": "1e20b933-1427-4155-9853-64025c3ad6e4",
   "metadata": {},
   "outputs": [
    {
     "data": {
      "text/html": [
       "<div>\n",
       "<style scoped>\n",
       "    .dataframe tbody tr th:only-of-type {\n",
       "        vertical-align: middle;\n",
       "    }\n",
       "\n",
       "    .dataframe tbody tr th {\n",
       "        vertical-align: top;\n",
       "    }\n",
       "\n",
       "    .dataframe thead th {\n",
       "        text-align: right;\n",
       "    }\n",
       "</style>\n",
       "<table border=\"1\" class=\"dataframe\">\n",
       "  <thead>\n",
       "    <tr style=\"text-align: right;\">\n",
       "      <th></th>\n",
       "      <th>engine_displacement</th>\n",
       "      <th>horsepower</th>\n",
       "      <th>vehicle_weight</th>\n",
       "      <th>model_year</th>\n",
       "      <th>fuel_efficiency_mpg</th>\n",
       "    </tr>\n",
       "  </thead>\n",
       "  <tbody>\n",
       "    <tr>\n",
       "      <th>7764</th>\n",
       "      <td>210</td>\n",
       "      <td>136.0</td>\n",
       "      <td>3001.227490</td>\n",
       "      <td>2004</td>\n",
       "      <td>14.272374</td>\n",
       "    </tr>\n",
       "    <tr>\n",
       "      <th>7765</th>\n",
       "      <td>290</td>\n",
       "      <td>142.0</td>\n",
       "      <td>3190.590332</td>\n",
       "      <td>2010</td>\n",
       "      <td>14.562889</td>\n",
       "    </tr>\n",
       "    <tr>\n",
       "      <th>7766</th>\n",
       "      <td>240</td>\n",
       "      <td>120.0</td>\n",
       "      <td>3518.444921</td>\n",
       "      <td>2008</td>\n",
       "      <td>11.872658</td>\n",
       "    </tr>\n",
       "    <tr>\n",
       "      <th>7767</th>\n",
       "      <td>220</td>\n",
       "      <td>141.0</td>\n",
       "      <td>1909.631801</td>\n",
       "      <td>2015</td>\n",
       "      <td>19.731391</td>\n",
       "    </tr>\n",
       "    <tr>\n",
       "      <th>7768</th>\n",
       "      <td>170</td>\n",
       "      <td>114.0</td>\n",
       "      <td>3825.442821</td>\n",
       "      <td>2009</td>\n",
       "      <td>10.344815</td>\n",
       "    </tr>\n",
       "    <tr>\n",
       "      <th>...</th>\n",
       "      <td>...</td>\n",
       "      <td>...</td>\n",
       "      <td>...</td>\n",
       "      <td>...</td>\n",
       "      <td>...</td>\n",
       "    </tr>\n",
       "    <tr>\n",
       "      <th>9699</th>\n",
       "      <td>140</td>\n",
       "      <td>164.0</td>\n",
       "      <td>2981.107371</td>\n",
       "      <td>2013</td>\n",
       "      <td>15.101802</td>\n",
       "    </tr>\n",
       "    <tr>\n",
       "      <th>9700</th>\n",
       "      <td>180</td>\n",
       "      <td>154.0</td>\n",
       "      <td>2439.525729</td>\n",
       "      <td>2004</td>\n",
       "      <td>17.962326</td>\n",
       "    </tr>\n",
       "    <tr>\n",
       "      <th>9701</th>\n",
       "      <td>220</td>\n",
       "      <td>138.0</td>\n",
       "      <td>2583.471318</td>\n",
       "      <td>2008</td>\n",
       "      <td>17.186587</td>\n",
       "    </tr>\n",
       "    <tr>\n",
       "      <th>9702</th>\n",
       "      <td>230</td>\n",
       "      <td>177.0</td>\n",
       "      <td>2905.527390</td>\n",
       "      <td>2011</td>\n",
       "      <td>15.331551</td>\n",
       "    </tr>\n",
       "    <tr>\n",
       "      <th>9703</th>\n",
       "      <td>270</td>\n",
       "      <td>140.0</td>\n",
       "      <td>2908.043477</td>\n",
       "      <td>2005</td>\n",
       "      <td>14.884467</td>\n",
       "    </tr>\n",
       "  </tbody>\n",
       "</table>\n",
       "<p>1940 rows × 5 columns</p>\n",
       "</div>"
      ],
      "text/plain": [
       "      engine_displacement  horsepower  vehicle_weight  model_year  \\\n",
       "7764                  210       136.0     3001.227490        2004   \n",
       "7765                  290       142.0     3190.590332        2010   \n",
       "7766                  240       120.0     3518.444921        2008   \n",
       "7767                  220       141.0     1909.631801        2015   \n",
       "7768                  170       114.0     3825.442821        2009   \n",
       "...                   ...         ...             ...         ...   \n",
       "9699                  140       164.0     2981.107371        2013   \n",
       "9700                  180       154.0     2439.525729        2004   \n",
       "9701                  220       138.0     2583.471318        2008   \n",
       "9702                  230       177.0     2905.527390        2011   \n",
       "9703                  270       140.0     2908.043477        2005   \n",
       "\n",
       "      fuel_efficiency_mpg  \n",
       "7764            14.272374  \n",
       "7765            14.562889  \n",
       "7766            11.872658  \n",
       "7767            19.731391  \n",
       "7768            10.344815  \n",
       "...                   ...  \n",
       "9699            15.101802  \n",
       "9700            17.962326  \n",
       "9701            17.186587  \n",
       "9702            15.331551  \n",
       "9703            14.884467  \n",
       "\n",
       "[1940 rows x 5 columns]"
      ]
     },
     "execution_count": 27,
     "metadata": {},
     "output_type": "execute_result"
    }
   ],
   "source": [
    "df_test"
   ]
  },
  {
   "cell_type": "code",
   "execution_count": 33,
   "id": "dcb9e53d-7df0-45f0-b865-e77788f5e1a4",
   "metadata": {},
   "outputs": [],
   "source": [
    "import numpy as np"
   ]
  },
  {
   "cell_type": "code",
   "execution_count": 34,
   "id": "9af42639-27e8-4da4-8537-e25e089954c5",
   "metadata": {},
   "outputs": [],
   "source": [
    "idx = np.arange(n)\n"
   ]
  },
  {
   "cell_type": "code",
   "execution_count": 37,
   "id": "64344c08-e335-4e97-98f2-581efd88ba06",
   "metadata": {},
   "outputs": [],
   "source": [
    "np.random.seed(2)\n",
    "np.random.shuffle(idx)"
   ]
  },
  {
   "cell_type": "code",
   "execution_count": 38,
   "id": "a35779dc-f696-4c5c-8367-7ff5ed2e7fbf",
   "metadata": {},
   "outputs": [],
   "source": [
    "df_train = df.iloc[idx[:n_train]]\n",
    "df_val = df.iloc[idx[n_train:n_train+n_val]]\n",
    "df_test = df.iloc[idx[n_train + n_val:]]"
   ]
  },
  {
   "cell_type": "code",
   "execution_count": 43,
   "id": "3a731dfc-bfc5-4e3d-9f5d-5d98117fca49",
   "metadata": {},
   "outputs": [
    {
     "data": {
      "text/html": [
       "<div>\n",
       "<style scoped>\n",
       "    .dataframe tbody tr th:only-of-type {\n",
       "        vertical-align: middle;\n",
       "    }\n",
       "\n",
       "    .dataframe tbody tr th {\n",
       "        vertical-align: top;\n",
       "    }\n",
       "\n",
       "    .dataframe thead th {\n",
       "        text-align: right;\n",
       "    }\n",
       "</style>\n",
       "<table border=\"1\" class=\"dataframe\">\n",
       "  <thead>\n",
       "    <tr style=\"text-align: right;\">\n",
       "      <th></th>\n",
       "      <th>engine_displacement</th>\n",
       "      <th>horsepower</th>\n",
       "      <th>vehicle_weight</th>\n",
       "      <th>model_year</th>\n",
       "      <th>fuel_efficiency_mpg</th>\n",
       "    </tr>\n",
       "  </thead>\n",
       "  <tbody>\n",
       "    <tr>\n",
       "      <th>246</th>\n",
       "      <td>170</td>\n",
       "      <td>164.0</td>\n",
       "      <td>2990.040917</td>\n",
       "      <td>2019</td>\n",
       "      <td>15.963019</td>\n",
       "    </tr>\n",
       "    <tr>\n",
       "      <th>8125</th>\n",
       "      <td>170</td>\n",
       "      <td>NaN</td>\n",
       "      <td>2729.623741</td>\n",
       "      <td>2012</td>\n",
       "      <td>15.931964</td>\n",
       "    </tr>\n",
       "    <tr>\n",
       "      <th>1927</th>\n",
       "      <td>200</td>\n",
       "      <td>142.0</td>\n",
       "      <td>3126.513375</td>\n",
       "      <td>2019</td>\n",
       "      <td>14.284901</td>\n",
       "    </tr>\n",
       "    <tr>\n",
       "      <th>8235</th>\n",
       "      <td>200</td>\n",
       "      <td>148.0</td>\n",
       "      <td>3136.477901</td>\n",
       "      <td>2003</td>\n",
       "      <td>14.865210</td>\n",
       "    </tr>\n",
       "    <tr>\n",
       "      <th>424</th>\n",
       "      <td>230</td>\n",
       "      <td>141.0</td>\n",
       "      <td>3384.681613</td>\n",
       "      <td>2006</td>\n",
       "      <td>12.428822</td>\n",
       "    </tr>\n",
       "  </tbody>\n",
       "</table>\n",
       "</div>"
      ],
      "text/plain": [
       "      engine_displacement  horsepower  vehicle_weight  model_year  \\\n",
       "246                   170       164.0     2990.040917        2019   \n",
       "8125                  170         NaN     2729.623741        2012   \n",
       "1927                  200       142.0     3126.513375        2019   \n",
       "8235                  200       148.0     3136.477901        2003   \n",
       "424                   230       141.0     3384.681613        2006   \n",
       "\n",
       "      fuel_efficiency_mpg  \n",
       "246             15.963019  \n",
       "8125            15.931964  \n",
       "1927            14.284901  \n",
       "8235            14.865210  \n",
       "424             12.428822  "
      ]
     },
     "execution_count": 43,
     "metadata": {},
     "output_type": "execute_result"
    }
   ],
   "source": [
    "from sklearn.model_selection import train_test_split\n",
    "\n",
    "df_train.head()"
   ]
  },
  {
   "cell_type": "code",
   "execution_count": 44,
   "id": "8ebe6146-318c-49d0-a659-3b2f48062f45",
   "metadata": {},
   "outputs": [
    {
     "data": {
      "text/plain": [
       "(5824, 1940, 1940)"
      ]
     },
     "execution_count": 44,
     "metadata": {},
     "output_type": "execute_result"
    }
   ],
   "source": [
    "len(df_train) , len(df_val) , len(df_test)"
   ]
  },
  {
   "cell_type": "code",
   "execution_count": 45,
   "id": "82014c10-23b7-4659-ade5-c8d7d527f36f",
   "metadata": {},
   "outputs": [],
   "source": [
    "df_train = df_train.reset_index(drop=True)\n",
    "df_val = df_val.reset_index(drop=True)\n",
    "df_test = df_test.reset_index(drop=True)"
   ]
  },
  {
   "cell_type": "code",
   "execution_count": 47,
   "id": "52c89ef8-63d3-46a9-96f3-f7c6868481e7",
   "metadata": {},
   "outputs": [],
   "source": [
    "y_train = np.log1p(df_train['fuel_efficiency_mpg'].values)"
   ]
  },
  {
   "cell_type": "code",
   "execution_count": 48,
   "id": "47fb17e8-53a6-4261-b3c4-2f1b493fddc0",
   "metadata": {},
   "outputs": [],
   "source": [
    "y_val = np.log1p(df_val['fuel_efficiency_mpg'].values)\n"
   ]
  },
  {
   "cell_type": "code",
   "execution_count": null,
   "id": "307986ed-fa77-4278-a92f-65d97572de80",
   "metadata": {},
   "outputs": [],
   "source": [
    "# y_test = np.log1p(df_test['fuel_efficiency_mpg'].values) # Only for final testing\n",
    "\n",
    "del df_train['fuel_efficiency_mpg']\n",
    "del df_val['fuel_efficiency_mpg']\n",
    "#del df_test['fuel_efficiency_mpg'] \n"
   ]
  },
  {
   "cell_type": "code",
   "execution_count": 52,
   "id": "2b2466d9-281c-4e33-a148-dfd510e86cbc",
   "metadata": {},
   "outputs": [],
   "source": [
    "#listing the features \n",
    "base_features = [\n",
    "    'engine_displacement',\n",
    "    'horsepower',\n",
    "    'vehicle_weight',\n",
    "    'model_year',\n",
    "]\n"
   ]
  },
  {
   "cell_type": "code",
   "execution_count": 53,
   "id": "f0e783ac-ead8-4515-af11-8bcad43fb506",
   "metadata": {},
   "outputs": [],
   "source": [
    "def prepare_X(df,fillna_value):\n",
    "    \"\"\"\n",
    "    selects the fewatues and fills NAN values\n",
    "    \"\"\"\n",
    "    df = df.copy()\n",
    "\n",
    "    # Impute missing values for horsepower\n",
    "    df['horsepower'] = df['horsepower'].fillna(fillna_value)\n",
    "\n",
    "    #numpy matrix\n",
    "    X = df[base_features].values\n",
    "    return X\n",
    "    "
   ]
  },
  {
   "cell_type": "code",
   "execution_count": 54,
   "id": "8cc5ae8c-0ae8-48c1-ac7c-550ca7f52516",
   "metadata": {},
   "outputs": [],
   "source": [
    "def train_linear_regression(X,y):\n",
    "    # add columns of ones for bias term(w0)\n",
    "    ones = np.ones(X.shape[0])\n",
    "    X = np.column_stack([ones,X])\n",
    "\n",
    "    reg = 0.001\n",
    "    XTX = X.T.dot(X)\n",
    "    XTX = XTX +reg * np.eye(XTX.shape[0])\n",
    "\n",
    "    # Calculate weights: w = (X^T X)^-1 X^T y\n",
    "    XTX_inv = np.linalg.inv(XTX)\n",
    "    w_full = XTX_inv.dot(X.T).dot(y)\n",
    "\n",
    "    \n",
    "    return w_full[0], w_full[1:] "
   ]
  },
  {
   "cell_type": "code",
   "execution_count": 55,
   "id": "f18f6a0e-2d17-45b2-9d78-61bc2bf110cb",
   "metadata": {},
   "outputs": [],
   "source": [
    "def rmse(y, y_pred):\n",
    "    error = y_pred - y\n",
    "    mse = (error ** 2).mean()\n",
    "    return np.sqrt(mse)"
   ]
  },
  {
   "cell_type": "code",
   "execution_count": 56,
   "id": "45ee865d-7d29-4308-925d-66091ca6a797",
   "metadata": {},
   "outputs": [
    {
     "name": "stdout",
     "output_type": "stream",
     "text": [
      "RMSE (Fill with 0): 0.0395 -> Rounded: 0.04\n"
     ]
    }
   ],
   "source": [
    "# SCENARIO 1: Fill missing 'horsepower' with 0\n",
    "\n",
    "# 1. Prepare data and train model\n",
    "X_train_0 = prepare_X(df_train, fillna_value=0)\n",
    "w_0, w_array_0 = train_linear_regression(X_train_0, y_train)\n",
    "\n",
    "# 2. Predict on validation set\n",
    "X_val_0 = prepare_X(df_val, fillna_value=0)\n",
    "y_pred_0 = w_0 + X_val_0.dot(w_array_0)\n",
    "\n",
    "# 3. Calculate and round the RMSE\n",
    "rmse_0 = rmse(y_val, y_pred_0)\n",
    "rounded_rmse_0 = round(rmse_0, 2)\n",
    "print(f\"RMSE (Fill with 0): {rmse_0:.4f} -> Rounded: {rounded_rmse_0}\")"
   ]
  },
  {
   "cell_type": "code",
   "execution_count": 57,
   "id": "46fd7184-7328-477e-9418-b6b81e859690",
   "metadata": {},
   "outputs": [
    {
     "name": "stdout",
     "output_type": "stream",
     "text": [
      "\n",
      "Training Mean for 'horsepower': 149.5733\n",
      "RMSE (Fill with Mean): 0.0364 -> Rounded: 0.04\n"
     ]
    }
   ],
   "source": [
    "# Calculate the mean ONLY from the training data for imputation\n",
    "mean_horsepower = df_train['horsepower'].mean()\n",
    "print(f\"\\nTraining Mean for 'horsepower': {mean_horsepower:.4f}\")\n",
    "\n",
    "# Prepare training data by filling missing data with mean\n",
    "X_train_mean = prepare_X(df_train, fillna_value=mean_horsepower)\n",
    "w_mean, w_array_mean = train_linear_regression(X_train_mean, y_train)\n",
    "\n",
    "X_val_mean = prepare_X(df_val, fillna_value=mean_horsepower)\n",
    "y_pred_mean = w_mean + X_val_mean.dot(w_array_mean)\n",
    "\n",
    "rmse_mean = rmse(y_val, y_pred_mean)\n",
    "rounded_rmse_mean = round(rmse_mean, 2)\n",
    "print(f\"RMSE (Fill with Mean): {rmse_mean:.4f} -> Rounded: {rounded_rmse_mean}\")"
   ]
  },
  {
   "cell_type": "code",
   "execution_count": 60,
   "id": "082b12d6-4858-4891-9a9f-faee953ea6f8",
   "metadata": {},
   "outputs": [],
   "source": [
    "# Question 3 : Both are equally good"
   ]
  },
  {
   "cell_type": "code",
   "execution_count": 62,
   "id": "3b34d98d-58e9-4575-8258-af15474454a1",
   "metadata": {},
   "outputs": [
    {
     "data": {
      "text/plain": [
       "array([[ 170.        ,  164.        , 2990.04091672, 2019.        ],\n",
       "       [ 170.        ,    0.        , 2729.62374119, 2012.        ],\n",
       "       [ 200.        ,  142.        , 3126.51337459, 2019.        ],\n",
       "       ...,\n",
       "       [ 260.        ,  169.        , 2701.62710304, 2002.        ],\n",
       "       [ 240.        ,  137.        , 2383.8964603 , 2016.        ],\n",
       "       [ 160.        ,    0.        , 2417.61065044, 2005.        ]])"
      ]
     },
     "execution_count": 62,
     "metadata": {},
     "output_type": "execute_result"
    }
   ],
   "source": [
    "X_train_q4 = prepare_X(df_train, fillna_value=0)\n",
    "X_val_q4 = prepare_X(df_val, fillna_value=0)\n"
   ]
  },
  {
   "cell_type": "code",
   "execution_count": 64,
   "id": "3316aeee-7cc6-40f1-9004-214afb09c15e",
   "metadata": {},
   "outputs": [
    {
     "name": "stdout",
     "output_type": "stream",
     "text": [
      "r=0      | RMSE: 0.0394 | Rounded: 0.04\n",
      "r=0.01   | RMSE: 0.0394 | Rounded: 0.04\n",
      "r=0.1    | RMSE: 0.0394 | Rounded: 0.04\n",
      "r=1      | RMSE: 0.0394 | Rounded: 0.04\n",
      "r=5      | RMSE: 0.0394 | Rounded: 0.04\n",
      "r=10     | RMSE: 0.0394 | Rounded: 0.04\n",
      "r=100    | RMSE: 0.0394 | Rounded: 0.04\n"
     ]
    }
   ],
   "source": [
    "\n",
    "def train_linear_regression_reg(X, y, r=0.0):\n",
    " \n",
    "    ones = np.ones(X.shape[0])\n",
    "    X = np.column_stack([ones, X])\n",
    "\n",
    "    # 2. Calculate Gram matrix\n",
    "    XTX = X.T.dot(X)\n",
    "    \n",
    "    reg_term = r * np.eye(XTX.shape[0])\n",
    "    reg_term[0, 0] = 0 \n",
    "    XTX = XTX + reg_term\n",
    "\n",
    "    XTX_inv = np.linalg.inv(XTX)\n",
    "    w_full = XTX_inv.dot(X.T).dot(y)\n",
    "    \n",
    "    return w_full[0], w_full[1:]\n",
    "\n",
    "\n",
    "r_values = [0, 0.01, 0.1, 1, 5, 10, 100]\n",
    "best_rmse = float('inf')\n",
    "best_r = -1\n",
    "\n",
    "for r in r_values:\n",
    "    w0, w = train_linear_regression_reg(X_train_q4, y_train, r=r)\n",
    "\n",
    "    y_pred = w0 + X_val_q4.dot(w)\n",
    "    score = rmse(y_val,y_pred)\n",
    "    rounded_score = round(score,2)\n",
    "\n",
    "    if rounded_score < best_rmse:\n",
    "        best_rmse = rounded_score\n",
    "        best_r = r\n",
    "    elif rounded_score == best_rmse and r < best_r:\n",
    "        best_r = r\n",
    "\n",
    "    print(f\"r={r:<6} | RMSE: {score:.4f} | Rounded: {rounded_score}\")\n"
   ]
  },
  {
   "cell_type": "code",
   "execution_count": 65,
   "id": "be27cec0-421d-4c78-b097-83e533ea9fb0",
   "metadata": {},
   "outputs": [],
   "source": [
    "#question 4 answer is 0"
   ]
  },
  {
   "cell_type": "code",
   "execution_count": 66,
   "id": "5be3685b-309c-4c5e-ab65-7c7605bf227c",
   "metadata": {},
   "outputs": [
    {
     "name": "stdout",
     "output_type": "stream",
     "text": [
      "RMSE scores: [0.038  0.0393 0.0395 0.0387 0.0373 0.0394 0.0389 0.0384 0.0402 0.0386]\n",
      "Standard deviation of RMSEs: 0.001\n"
     ]
    }
   ],
   "source": [
    "seeds = range(10)\n",
    "scores = []\n",
    "for seed in seeds:\n",
    "    # Shuffle and split using the current seed\n",
    "    idx = np.arange(n)\n",
    "    np.random.seed(seed)\n",
    "    np.random.shuffle(idx)\n",
    "    \n",
    "    df_train = df.iloc[idx[:n_train]].reset_index(drop=True)\n",
    "    df_val = df.iloc[idx[n_train:n_train + n_val]].reset_index(drop=True)\n",
    "    df_test = df.iloc[idx[n_train + n_val:]].reset_index(drop=True)\n",
    "    \n",
    "    # Prepare targets\n",
    "    y_train = np.log1p(df_train['fuel_efficiency_mpg'].values)\n",
    "    y_val = np.log1p(df_val['fuel_efficiency_mpg'].values)\n",
    "\n",
    "    # Prepare feature matrices (fill missing horsepower with 0)\n",
    "    X_train = prepare_X(df_train, fillna_value=0)\n",
    "    X_val = prepare_X(df_val, fillna_value=0)\n",
    "    \n",
    "    # Train model (no regularization)\n",
    "    w0, w = train_linear_regression(X_train, y_train)\n",
    "    \n",
    "    # Predict and evaluate on validation set\n",
    "    y_pred = w0 + X_val.dot(w)\n",
    "    score = rmse(y_val, y_pred)\n",
    "    scores.append(score)\n",
    "\n",
    "std = np.std(scores)\n",
    "print(\"RMSE scores:\", np.round(scores, 4))\n",
    "print(\"Standard deviation of RMSEs:\", round(std, 3))"
   ]
  },
  {
   "cell_type": "code",
   "execution_count": 70,
   "id": "00ce2edc-5561-4b38-a5ff-2e157f9e1292",
   "metadata": {
    "scrolled": true
   },
   "outputs": [
    {
     "name": "stdout",
     "output_type": "stream",
     "text": [
      "0.607\n"
     ]
    }
   ],
   "source": [
    "\n",
    "np.random.seed(9)\n",
    "idx = np.arange(n)\n",
    "np.random.shuffle(idx)\n",
    "\n",
    "df_train = df.iloc[idx[:n_train]].reset_index(drop=True)\n",
    "df_val = df.iloc[idx[n_train:n_train + n_val]].reset_index(drop=True)\n",
    "df_test = df.iloc[idx[n_train + n_val:]].reset_index(drop=True)\n",
    "\n",
    "df_train_full = pd.concat([df_train, df_val]).reset_index(drop=True)\n",
    "\n",
    "y_train_full = np.log1p(df_train_full['fuel_efficiency_mpg'].values)\n",
    "y_test = np.log1p(df_test['fuel_efficiency_mpg'].values)\n",
    "\n",
    "del df_train_full['fuel_efficiency_mpg']\n",
    "del df_test['fuel_efficiency_mpg']\n",
    "\n",
    "X_train_full = prepare_X(df_train_full, fillna_value=0)\n",
    "X_test = prepare_X(df_test, fillna_value=0)\n",
    "\n",
    "r = 0.001\n",
    "w0, w = train_linear_regression_reg(X_train_full, y_train_full, r=r)\n",
    "\n",
    "y_pred = w0 + X_test.dot(w)\n",
    "\n",
    "y_test_orig = np.expm1(y_test)\n",
    "y_pred_orig = np.expm1(y_pred)\n",
    "\n",
    "rmse_test_orig = rmse(y_test_orig, y_pred_orig)\n",
    "print(round(rmse_test_orig, 3))\n",
    "\n"
   ]
  },
  {
   "cell_type": "code",
   "execution_count": null,
   "id": "140ba6a6-ce73-4567-b122-dbdfcab6ffd8",
   "metadata": {},
   "outputs": [],
   "source": []
  }
 ],
 "metadata": {
  "kernelspec": {
   "display_name": "Python 3 (ipykernel)",
   "language": "python",
   "name": "python3"
  },
  "language_info": {
   "codemirror_mode": {
    "name": "ipython",
    "version": 3
   },
   "file_extension": ".py",
   "mimetype": "text/x-python",
   "name": "python",
   "nbconvert_exporter": "python",
   "pygments_lexer": "ipython3",
   "version": "3.9.6"
  }
 },
 "nbformat": 4,
 "nbformat_minor": 5
}
